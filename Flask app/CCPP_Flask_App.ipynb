{
 "cells": [
  {
   "cell_type": "code",
   "execution_count": 1,
   "id": "certain-configuration",
   "metadata": {},
   "outputs": [],
   "source": [
    "from flask import Flask, render_template, request # Flask is a application\n",
    "# used to run/serve our application\n",
    "# request is used to access the file which is uploaded by the user in out application\n",
    "# render_template is used for rendering the html pages\n",
    "import pickle # pickle is used for serializing and de-serializing Python object structures"
   ]
  },
  {
   "cell_type": "code",
   "execution_count": null,
   "id": "acute-bridal",
   "metadata": {},
   "outputs": [
    {
     "name": "stdout",
     "output_type": "stream",
     "text": [
      " * Serving Flask app \"__main__\" (lazy loading)\n",
      " * Environment: production\n",
      "   WARNING: This is a development server. Do not use it in a production deployment.\n",
      "   Use a production WSGI server instead.\n",
      " * Debug mode: off\n"
     ]
    },
    {
     "name": "stderr",
     "output_type": "stream",
     "text": [
      " * Running on http://127.0.0.1:5000/ (Press CTRL+C to quit)\n",
      "127.0.0.1 - - [04/Mar/2021 14:53:33] \"\u001b[37mGET / HTTP/1.1\u001b[0m\" 200 -\n",
      "127.0.0.1 - - [04/Mar/2021 14:54:45] \"\u001b[37mGET /predict HTTP/1.1\u001b[0m\" 200 -\n",
      "127.0.0.1 - - [04/Mar/2021 14:56:16] \"\u001b[37mPOST /data_predict HTTP/1.1\u001b[0m\" 200 -\n",
      "127.0.0.1 - - [04/Mar/2021 14:56:32] \"\u001b[37mGET /predict HTTP/1.1\u001b[0m\" 200 -\n",
      "127.0.0.1 - - [04/Mar/2021 14:56:52] \"\u001b[37mPOST /data_predict HTTP/1.1\u001b[0m\" 200 -\n",
      "127.0.0.1 - - [04/Mar/2021 14:57:04] \"\u001b[37mGET /predict HTTP/1.1\u001b[0m\" 200 -\n",
      "127.0.0.1 - - [04/Mar/2021 14:57:18] \"\u001b[37mPOST /data_predict HTTP/1.1\u001b[0m\" 200 -\n",
      "127.0.0.1 - - [04/Mar/2021 14:57:27] \"\u001b[37mGET /predict HTTP/1.1\u001b[0m\" 200 -\n",
      "127.0.0.1 - - [04/Mar/2021 14:57:39] \"\u001b[37mPOST /data_predict HTTP/1.1\u001b[0m\" 200 -\n"
     ]
    }
   ],
   "source": [
    "app=Flask(__name__) # our flask app\n",
    "\n",
    "@app.route('/') # rendering the html template\n",
    "def home():\n",
    "    return render_template('home.html')\n",
    "@app.route('/predict') # rendering the html template\n",
    "def index() :\n",
    "    return render_template(\"index.html\")\n",
    "\n",
    "@app.route('/data_predict', methods=['POST']) # route for our prediction\n",
    "def predict():\n",
    "    at = request.form['at'] # requesting for age data\n",
    "    v = request.form['v'] # requesting for gender data\n",
    "    ap = request.form['ap'] # requesting for Total_Bilirubin data\n",
    "    rh = request.form['rh'] # requesting for Direct_Bilirubin data\n",
    "    \n",
    "    # coverting data into float format\n",
    "    data = [[float(at), float(v), float(ap), float(rh)]]\n",
    "    \n",
    "    # loading model which we saved\n",
    "    model = pickle.load(open('CCPP.pkl', 'rb'))\n",
    "    \n",
    "    prediction= model.predict(data)[0]\n",
    "    return render_template('predict.html', prediction=prediction)\n",
    "\n",
    "if __name__ == '__main__':\n",
    "    app.run()"
   ]
  },
  {
   "cell_type": "code",
   "execution_count": null,
   "id": "modified-spectacular",
   "metadata": {},
   "outputs": [],
   "source": []
  },
  {
   "cell_type": "code",
   "execution_count": null,
   "id": "wound-emergency",
   "metadata": {},
   "outputs": [],
   "source": []
  },
  {
   "cell_type": "code",
   "execution_count": null,
   "id": "external-going",
   "metadata": {},
   "outputs": [],
   "source": []
  }
 ],
 "metadata": {
  "kernelspec": {
   "display_name": "Python 3",
   "language": "python",
   "name": "python3"
  },
  "language_info": {
   "codemirror_mode": {
    "name": "ipython",
    "version": 3
   },
   "file_extension": ".py",
   "mimetype": "text/x-python",
   "name": "python",
   "nbconvert_exporter": "python",
   "pygments_lexer": "ipython3",
   "version": "3.8.5"
  }
 },
 "nbformat": 4,
 "nbformat_minor": 5
}
