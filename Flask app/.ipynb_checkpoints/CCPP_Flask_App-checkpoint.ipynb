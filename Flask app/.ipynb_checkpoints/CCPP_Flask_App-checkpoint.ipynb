{
 "cells": [
  {
   "cell_type": "code",
   "execution_count": null,
   "id": "seasonal-springer",
   "metadata": {},
   "outputs": [],
   "source": [
    "from flask import Flask, render_template, request # Flask is a application\n",
    "# used to run/serve our application\n",
    "# request is used to access the file which is uploaded by the user in out application\n",
    "# render_template is used for rendering the html pages\n",
    "import pickle # pickle is used for serializing and de-serializing Python object structures"
   ]
  },
  {
   "cell_type": "code",
   "execution_count": null,
   "id": "facial-piano",
   "metadata": {},
   "outputs": [],
   "source": [
    "app=Flask(__name__) # our flask app\n",
    "\n",
    "@app.route('/') # rendering the html template\n",
    "def home():\n",
    "    return render_template('home.html')\n",
    "@app.route('/predict') # rendering the html template\n",
    "def index() :\n",
    "    return render_template(\"index.html\")\n",
    "\n",
    "@app.route('/data_predict', methods=['POST']) # route for our prediction\n",
    "def predict():\n",
    "    at = request.form['at'] # requesting for age data\n",
    "    v = request.form['v'] # requesting for gender data\n",
    "    ap = request.form['ap'] # requesting for Total_Bilirubin data\n",
    "    rh = request.form['rh'] # requesting for Direct_Bilirubin data\n",
    "    \n",
    "    # coverting data into float format\n",
    "    data = [[float(at), float(v), float(ap), float(rh)]]\n",
    "    \n",
    "    # loading model which we saved\n",
    "    model = pickle.load(open('CCPP.pkl', 'rb'))\n",
    "    \n",
    "    prediction= model.predict(data)[0]\n",
    "    return render_template('chance.html', prediction=prediction)\n",
    "#     if (prediction == 1):\n",
    "#         return render_template('noChance.html', prediction='You have a liver desease problem, You must and should consult a doctor. Take care')\n",
    "#     else:\n",
    "#         return render_template('chance.html', prediction='You dont have a liver desease problem')\n",
    "\n",
    "if __name__ == '__main__':\n",
    "    app.run()"
   ]
  },
  {
   "cell_type": "code",
   "execution_count": null,
   "id": "decreased-ballot",
   "metadata": {},
   "outputs": [],
   "source": []
  },
  {
   "cell_type": "code",
   "execution_count": null,
   "id": "atomic-hungarian",
   "metadata": {},
   "outputs": [],
   "source": []
  },
  {
   "cell_type": "code",
   "execution_count": null,
   "id": "mineral-works",
   "metadata": {},
   "outputs": [],
   "source": []
  }
 ],
 "metadata": {
  "kernelspec": {
   "display_name": "Python 3",
   "language": "python",
   "name": "python3"
  },
  "language_info": {
   "codemirror_mode": {
    "name": "ipython",
    "version": 3
   },
   "file_extension": ".py",
   "mimetype": "text/x-python",
   "name": "python",
   "nbconvert_exporter": "python",
   "pygments_lexer": "ipython3",
   "version": "3.8.5"
  }
 },
 "nbformat": 4,
 "nbformat_minor": 5
}
