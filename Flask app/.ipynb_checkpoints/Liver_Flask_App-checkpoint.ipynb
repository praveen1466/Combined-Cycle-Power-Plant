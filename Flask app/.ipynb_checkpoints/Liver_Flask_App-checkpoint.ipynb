{
 "cells": [
  {
   "cell_type": "code",
   "execution_count": null,
   "id": "biological-success",
   "metadata": {},
   "outputs": [],
   "source": [
    "from flask import Flask, render_template, request\n",
    "import pickle\n",
    "from sklearn.svm import SVC"
   ]
  },
  {
   "cell_type": "code",
   "execution_count": null,
   "id": "tender-egyptian",
   "metadata": {},
   "outputs": [],
   "source": [
    "app=Flask(__name__)\n",
    "\n",
    "@app.route('/')\n",
    "def home():\n",
    "    return render_template('home.html')\n",
    "@app.route('/predict')\n",
    "def index() :\n",
    "    return render_template(\"index.html\")\n",
    "\n",
    "@app.route('/data_predict', methods=['POST'])\n",
    "def predict():\n",
    "    age = request.form['age']\n",
    "    gender = request.form['gender']\n",
    "    tb = request.form['tb']\n",
    "    db = request.form['db']\n",
    "    ap = request.form['ap']\n",
    "    aa1 = request.form['aa1']\n",
    "    aa2 = request.form['aa2']\n",
    "    tp = request.form['tp']\n",
    "    a = request.form['a']\n",
    "    agr = request.form['agr']\n",
    "    \n",
    "    data = [[float(age), float(gender), float(tb), float(db), float(ap), float(aa1), float(aa2), float(tp), float(a), float(agr)]]\n",
    "    \n",
    "    model = pickle.load(open('liver_analysis.pkl', 'rb'))\n",
    "    \n",
    "    prediction= model.predict(data)[0]\n",
    "    if (prediction == 1):\n",
    "        return render_template('noChance.html', prediction='You have a liver desease problem, You must and should consult a doctor. Thank you')\n",
    "    else:\n",
    "        return render_template('chance.html', prediction='You have a chance')\n",
    "\n",
    "if __name__ == '__main__':\n",
    "    app.run()"
   ]
  },
  {
   "cell_type": "code",
   "execution_count": null,
   "id": "robust-emergency",
   "metadata": {},
   "outputs": [],
   "source": []
  },
  {
   "cell_type": "code",
   "execution_count": null,
   "id": "backed-redhead",
   "metadata": {},
   "outputs": [],
   "source": []
  },
  {
   "cell_type": "code",
   "execution_count": null,
   "id": "outside-lesson",
   "metadata": {},
   "outputs": [],
   "source": []
  }
 ],
 "metadata": {
  "kernelspec": {
   "display_name": "Python 3",
   "language": "python",
   "name": "python3"
  },
  "language_info": {
   "codemirror_mode": {
    "name": "ipython",
    "version": 3
   },
   "file_extension": ".py",
   "mimetype": "text/x-python",
   "name": "python",
   "nbconvert_exporter": "python",
   "pygments_lexer": "ipython3",
   "version": "3.8.5"
  }
 },
 "nbformat": 4,
 "nbformat_minor": 5
}
